{
 "cells": [
  {
   "cell_type": "markdown",
   "metadata": {},
   "source": [
    "# Récursivité"
   ]
  },
  {
   "cell_type": "markdown",
   "metadata": {},
   "source": [
    "## Algorithes récursifs sur des chaînes de caractères"
   ]
  },
  {
   "cell_type": "markdown",
   "metadata": {},
   "source": [
    "### Longueur d'une chaîne de caractères"
   ]
  },
  {
   "cell_type": "markdown",
   "metadata": {},
   "source": [
    "**Spécification:** Écrire une fonction ```longueur(chaîne)``` prenant pour paramètre une chaîne de caractère, et retournant la longueur de cette chaîne. Il n'est évidemment pas autorisé d'utilisé la fonction standard ```len(chaîne)```. On pourra tester si une chaîne est vide à l'aide de la syntaxe ```chaîne == \"\"```."
   ]
  },
  {
   "cell_type": "markdown",
   "metadata": {},
   "source": [
    "**solution:** On propose ici (et pour la plupart des exercices) **deux** solutions: une version _récursive_ (attendue par l'énoncé), et une version _itérative_ qui est là pour comparaison.\n",
    "\n",
    "Dans certains cas, la version itérative est plus simple à comprendre, mais pas toujours. L'implémentation standard du langage python que l'on utilise fait que la version récursive est presque toujours plus coûteuse en exécution (principalement en raison de l'utilisation de la mémoire induite par l'empilement des environnements d'exécution de chaque appel récursif à la fonction).\n",
    "\n",
    "Néanmoins, lorsque nous verrons des algorithmes plus complexes (3 derniers exercices de la feuille, ou bien dans des chapitres futurs), le compromis entre le coût d'exécution et la facilité de programmation sera largement en faveur de la récursivité (surtout lorsque la profondeur de cette récursivité n'est pas très importante)."
   ]
  },
  {
   "cell_type": "code",
   "execution_count": null,
   "metadata": {},
   "outputs": [],
   "source": [
    "def longueur_rec(chaîne):\n",
    "    \"\"\"\n",
    "    Calcule et renvoie la longueur du paramètre chaîne, qui est supposé\n",
    "    être une chaine de caractères.\n",
    "    \"\"\"\n",
    "    \n",
    "    if chaîne == \"\":\n",
    "        return 0\n",
    "    else:\n",
    "        return 1 + longueur_rec(chaîne[1:])"
   ]
  },
  {
   "cell_type": "code",
   "execution_count": null,
   "metadata": {},
   "outputs": [],
   "source": [
    "def longueur_iter(chaîne):\n",
    "    \"\"\"\n",
    "    Calcule et renvoie la longueur du paramètre chaîne, qui est supposé\n",
    "    être une chaine de caractères.\n",
    "    \"\"\"\n",
    "    \n",
    "    longueur = 0\n",
    "    while chaîne != \"\":\n",
    "        chaîne = chaîne[1:] # On \"supprime\" la première lettre\n",
    "        longueur += 1\n",
    "    \n",
    "    return longueur"
   ]
  },
  {
   "cell_type": "markdown",
   "metadata": {},
   "source": [
    "**Procédure de tests**: On propose ici de tester les 2 versions, à l'aide d'assertions. Si la fonction de test n'affiche rien, c'est que tout va bien. Dans le cas contraire, une erreur apparaîtra automatiquement.\n",
    "\n",
    "Comme on doit tester à la fois 'longueur_rec' et 'longueur_iter', et que l'on ne souhaite pas recopier 2 fois les mêmes assertions, on va utiliser une astuce qui consiste à passer en paramètre la fonction que l'on souhaite tester: on appelle cela de la _programmation fonctionnelle_, puisqu'on passe en paramètre d'une fonction une autre fonction."
   ]
  },
  {
   "cell_type": "code",
   "execution_count": null,
   "metadata": {},
   "outputs": [],
   "source": [
    "def teste_longueur(fonction):\n",
    "    # Le paramètre fonction vaudra soit longueur_rec, soit longueur_iter\n",
    "    assert fonction(\"NSI\") == 3\n",
    "    assert fonction(\"\") == 0\n",
    "    assert fonction(\"z\") == 1\n",
    "    assert fonction(\"abcdefghijklmnopqrstuvwxyz\") == 26\n",
    "    assert fonction(\"0\"*1337) == 1337"
   ]
  },
  {
   "cell_type": "code",
   "execution_count": null,
   "metadata": {},
   "outputs": [],
   "source": [
    "teste_longueur(longueur_rec)"
   ]
  },
  {
   "cell_type": "code",
   "execution_count": null,
   "metadata": {},
   "outputs": [],
   "source": [
    "teste_longueur(longueur_iter)"
   ]
  },
  {
   "cell_type": "markdown",
   "metadata": {},
   "source": [
    "### Détection d'un palindrome"
   ]
  },
  {
   "cell_type": "markdown",
   "metadata": {},
   "source": [
    "**Spécification:** Écrire une fonction ```palindrome(mot)``` renvoyant ```True``` si ```mot``` est un palindrome, ```False``` sinon. On s'interdira d'utiliser la fonction ```retourne(chaîne)``` utilisée en cours, ou tout autre moyen permettant de retourner une chaîne de caractère pour la comparer à l'originale: votre algorithme doit être spécifiquement écrit pour tester la \"palindromitude\" du mot."
   ]
  },
  {
   "cell_type": "markdown",
   "metadata": {},
   "source": [
    "**Votre solution:**"
   ]
  },
  {
   "cell_type": "code",
   "execution_count": null,
   "metadata": {},
   "outputs": [],
   "source": [
    "def palindrome_rec(mot):\n",
    "    \"\"\"\n",
    "    Renvoie True ssi mot est un palindrome\n",
    "    \"\"\"\n",
    "    \n",
    "    if len(mot) <= 1:\n",
    "        return True\n",
    "    elif mot[0] == mot[-1] and palindrome_rec(mot[1:-1]):\n",
    "        return True\n",
    "    else:\n",
    "        return False"
   ]
  },
  {
   "cell_type": "markdown",
   "metadata": {},
   "source": [
    "La dernière conditionnelle peut être condensée de la manière suivante:"
   ]
  },
  {
   "cell_type": "code",
   "execution_count": null,
   "metadata": {},
   "outputs": [],
   "source": [
    "def palindrome_rec(mot):\n",
    "    \"\"\"\n",
    "    Renvoie True ssi mot est un palindrome\n",
    "    \"\"\"\n",
    "    \n",
    "    if len(mot) <= 1:\n",
    "        return True\n",
    "    else:\n",
    "        return mot[0].lower() == mot[-1].lower() and palindrome_rec(mot[1:-1])"
   ]
  },
  {
   "cell_type": "markdown",
   "metadata": {},
   "source": [
    "En effet, il est inutile de renvoyer True si la condition est True, False si la condition est False: autant renvoyer la valeur de la condition tout de suite, c'est la même chose."
   ]
  },
  {
   "cell_type": "code",
   "execution_count": null,
   "metadata": {},
   "outputs": [],
   "source": [
    "def palindrome_iter(mot):\n",
    "    \"\"\"\n",
    "    Renvoie True ssi mot est un palindrome\n",
    "    \"\"\"\n",
    "    \n",
    "    if len(mot) == 0:\n",
    "        return True\n",
    "    else:\n",
    "        début = 0\n",
    "        fin = len(mot) - 1\n",
    "        while début < fin:\n",
    "            if mot[début].lower() != mot[fin].lower():\n",
    "                return False\n",
    "            début += 1\n",
    "            fin -= 1\n",
    "        # On n'a jamais trouvé de couples de lettres distinctes: c'est un palindrome.\n",
    "        return True"
   ]
  },
  {
   "cell_type": "markdown",
   "metadata": {},
   "source": [
    "**Procédure de tests:**"
   ]
  },
  {
   "cell_type": "code",
   "execution_count": null,
   "metadata": {},
   "outputs": [],
   "source": [
    "def teste_palindrome(fonction):\n",
    "    # fonction vaudra soit palindrome_rec, soit palindrome_iter\n",
    "    assert fonction(\"\") == True\n",
    "    assert fonction(\"z\") == True\n",
    "    assert fonction(\"ab\") == False\n",
    "    assert fonction(\"aba\") == True\n",
    "    assert fonction(\"Laval\") == True\n",
    "    assert fonction(\"abcdefghijklmnopqrstuvwxyzyxwvutsrqponmlkjihgfedcba\") == True\n",
    "    assert fonction(\"abcdefghijklmnopqrstuvwxyzyxwvutsrqp@nmlkjihgfedcba\") == False"
   ]
  },
  {
   "cell_type": "code",
   "execution_count": null,
   "metadata": {},
   "outputs": [],
   "source": [
    "teste_palindrome(palindrome_rec)"
   ]
  },
  {
   "cell_type": "code",
   "execution_count": null,
   "metadata": {},
   "outputs": [],
   "source": [
    "teste_palindrome(palindrome_iter)"
   ]
  },
  {
   "cell_type": "markdown",
   "metadata": {},
   "source": [
    "## Algorithmes récursifs sur des entiers"
   ]
  },
  {
   "cell_type": "markdown",
   "metadata": {},
   "source": [
    "### Calcul d'une factorielle"
   ]
  },
  {
   "cell_type": "markdown",
   "metadata": {},
   "source": [
    "**Spécification:** Écrire une fonction ```fact(n)``` prenant pour paramètre un entier naturel $n$ et renvoyant sa factorielle $n!$."
   ]
  },
  {
   "cell_type": "markdown",
   "metadata": {},
   "source": [
    "**Votre solution:**"
   ]
  },
  {
   "cell_type": "code",
   "execution_count": null,
   "metadata": {},
   "outputs": [],
   "source": [
    "def fact_rec(n):\n",
    "    \"\"\"\n",
    "    Calcule et renvoie n!\n",
    "    \"\"\"\n",
    "    \n",
    "    if n == 0:\n",
    "        return 1\n",
    "    else:\n",
    "        return n * fact_rec(n-1)"
   ]
  },
  {
   "cell_type": "code",
   "execution_count": null,
   "metadata": {},
   "outputs": [],
   "source": [
    "def fact_iter(n):\n",
    "    \"\"\"\n",
    "    Calcule et renvoie n!\n",
    "    \"\"\"\n",
    "    \n",
    "    f = 1\n",
    "    i = 1\n",
    "    while i <= n:\n",
    "        f *= i\n",
    "        i += 1\n",
    "        \n",
    "    return f"
   ]
  },
  {
   "cell_type": "markdown",
   "metadata": {},
   "source": [
    "**Procédure de tests:**"
   ]
  },
  {
   "cell_type": "code",
   "execution_count": null,
   "metadata": {},
   "outputs": [],
   "source": [
    "def teste_factorielle(fonction):\n",
    "    assert fonction(0) == 1\n",
    "    assert fonction(1) == 1\n",
    "    assert fonction(2) == 2\n",
    "    assert fonction(3) == 6\n",
    "    assert fonction(4) == 24\n",
    "    assert fonction(5) == 120\n",
    "    assert fonction(6) == 720"
   ]
  },
  {
   "cell_type": "code",
   "execution_count": null,
   "metadata": {},
   "outputs": [],
   "source": [
    "teste_factorielle(fact_rec)"
   ]
  },
  {
   "cell_type": "code",
   "execution_count": null,
   "metadata": {},
   "outputs": [],
   "source": [
    "teste_factorielle(fact_iter)"
   ]
  },
  {
   "cell_type": "markdown",
   "metadata": {},
   "source": [
    "### Multiplication de deux entiers"
   ]
  },
  {
   "cell_type": "markdown",
   "metadata": {},
   "source": [
    "**Spéficification:** Écrire une fonction ```mult(a, b)``` renvoyant le produit $a\\times b$, où l'on suppose que $a$ et $b$ sont deux entiers naturels. On s'interdira bien évidemment d'utiliser l'opérateur de multiplication `*`: seules les additions (et les soustractions) sont autorisées."
   ]
  },
  {
   "cell_type": "markdown",
   "metadata": {},
   "source": [
    "**Votre solution:**"
   ]
  },
  {
   "cell_type": "code",
   "execution_count": null,
   "metadata": {},
   "outputs": [],
   "source": [
    "def mult_rec(a, b):\n",
    "    \"\"\"\n",
    "    Calcule le produit a*b\n",
    "    \"\"\"\n",
    "    \n",
    "    if a == 0:\n",
    "        return 0\n",
    "    else:\n",
    "        return b + mult_rec(a-1, b)"
   ]
  },
  {
   "cell_type": "code",
   "execution_count": null,
   "metadata": {},
   "outputs": [],
   "source": [
    "def mult_iter(a, b):\n",
    "    \"\"\"\n",
    "    Calcule le produit a*b\n",
    "    \"\"\"\n",
    "\n",
    "    produit = 0\n",
    "    for _ in range(a):\n",
    "        produit += b\n",
    "\n",
    "    return produit"
   ]
  },
  {
   "cell_type": "markdown",
   "metadata": {},
   "source": [
    "**Procédure de tests:**"
   ]
  },
  {
   "cell_type": "code",
   "execution_count": null,
   "metadata": {},
   "outputs": [],
   "source": [
    "from random import randint\n",
    "\n",
    "def teste_multiplication(fonction):\n",
    "    # On commence par vérifier la table de multiplications apprise à l'école élémentaire:\n",
    "    for i in range(1, 11):\n",
    "        for j in range(1, 11):\n",
    "            assert i*j == fonction(i, j)\n",
    "            \n",
    "    # On effectue quelques tests aléatoires avec des valeurs plus grandes:\n",
    "    for _ in range(100):\n",
    "        a = randint(0, 500)\n",
    "        b = randint(0, 500)\n",
    "        assert a*b == fonction(a, b)\n",
    "        assert fonction(a, 0) == 0\n",
    "        assert fonction(a, 1) == a\n",
    "        assert fonction(0, b) == 0\n",
    "        assert fonction(1, b) == b"
   ]
  },
  {
   "cell_type": "code",
   "execution_count": null,
   "metadata": {},
   "outputs": [],
   "source": [
    "teste_multiplication(mult_rec)"
   ]
  },
  {
   "cell_type": "code",
   "execution_count": null,
   "metadata": {},
   "outputs": [],
   "source": [
    "teste_multiplication(mult_iter)"
   ]
  },
  {
   "cell_type": "markdown",
   "metadata": {},
   "source": [
    "### Multiplication optimisée de deux entiers "
   ]
  },
  {
   "cell_type": "markdown",
   "metadata": {},
   "source": [
    "**Spécification:** Écrivez la fonction ```multopt(a, b)``` utilisant cet algorithme de multiplication optimisé.\n",
    "\n",
    "**Bonus:** Modifiez votre fonction pour qu'elle renvoie deux valeurs: le produit demandé, et le nombre d'appels récursifs effectués pour le calculer.\n",
    "\n",
    "Afficher le nombre d'appels nécessaires pour $a$ variant de 1 à 1000 (la valeur de $b$ n'intervient jamais dans ce calcul et n'a de ce fait aucune importance)."
   ]
  },
  {
   "cell_type": "markdown",
   "metadata": {},
   "source": [
    "**Votre solution:**"
   ]
  },
  {
   "cell_type": "code",
   "execution_count": null,
   "metadata": {},
   "outputs": [],
   "source": [
    "def multopt_rec(a, b):\n",
    "    \"\"\"\n",
    "    Calcule et renvoie a*b.\n",
    "    \"\"\"\n",
    "    \n",
    "    if a == 0:\n",
    "        return 0\n",
    "    else:\n",
    "        if a % 2 == 0:\n",
    "            return multopt_rec(a // 2, b + b)\n",
    "        else:\n",
    "            return multopt_rec(a - 1, b) + b"
   ]
  },
  {
   "cell_type": "code",
   "execution_count": null,
   "metadata": {},
   "outputs": [],
   "source": [
    "def multopt_iter(a, b):\n",
    "    \"\"\"\n",
    "    Calcule et renvoie a*b.\n",
    "    \"\"\"\n",
    "\n",
    "    produit = 0\n",
    "    while a > 0:\n",
    "        if a % 2 == 0:\n",
    "            a //= 2\n",
    "            b += b\n",
    "        else:\n",
    "            a -= 1\n",
    "            produit += b\n",
    "            \n",
    "    return produit"
   ]
  },
  {
   "cell_type": "markdown",
   "metadata": {},
   "source": [
    "**Procédure de tests:** On peut réutiliser la même fonction de tests que précédemment, mais en passant en paramètre les nouvelles fonctions.\n",
    "\n",
    "Programmation fonctionnelle powa !"
   ]
  },
  {
   "cell_type": "code",
   "execution_count": null,
   "metadata": {},
   "outputs": [],
   "source": [
    "teste_multiplication(multopt_rec)"
   ]
  },
  {
   "cell_type": "code",
   "execution_count": null,
   "metadata": {},
   "outputs": [],
   "source": [
    "teste_multiplication(multopt_iter)"
   ]
  },
  {
   "cell_type": "markdown",
   "metadata": {},
   "source": [
    "**Version renvoyant aussi le nombre d'appels récursifs effectués:**\n",
    "\n",
    "La fonction 'mult_rec' de l'exercice précédent effectuait la récursion sur le paramètre 'a', le nombre d'appels récursifs était donc exactement égal à 'a'.\n",
    "\n",
    "Voyons à quel point la version optimisée porte bien son nom:"
   ]
  },
  {
   "cell_type": "code",
   "execution_count": null,
   "metadata": {},
   "outputs": [],
   "source": [
    "def multopt_rec_appels(a, b):\n",
    "    \"\"\"\n",
    "    Calcule et renvoie a*b. Renvoie aussi le nombre d'appels récursifs effectué.\n",
    "    \"\"\"\n",
    "    \n",
    "    if a == 0:\n",
    "        return 0, 1\n",
    "    else:\n",
    "        if a % 2 == 0:\n",
    "            prod, compteur = multopt_rec_appels(a // 2, b + b)\n",
    "            return prod, compteur + 1\n",
    "        else:\n",
    "            prod, compteur = multopt_rec_appels(a - 1, b)\n",
    "            return prod + b, compteur + 1"
   ]
  },
  {
   "cell_type": "code",
   "execution_count": null,
   "metadata": {},
   "outputs": [],
   "source": [
    "from random import randint\n",
    "\n",
    "for _ in range(25):\n",
    "    a = randint(0, 500000000)\n",
    "    b = randint(0, 500000000)\n",
    "    prod, compteur = multopt_rec_appels(a, b)\n",
    "    assert prod == a*b\n",
    "    print(\"Calcul de {}*{} effectué en {} appels récursifs contre {} avec mult_rec\".format(a, b, compteur, a))"
   ]
  },
  {
   "cell_type": "markdown",
   "metadata": {},
   "source": [
    "### Optimisation du calcul récursif d'une puissance"
   ]
  },
  {
   "cell_type": "markdown",
   "metadata": {},
   "source": [
    "**Spécification:** Procéder comme pour l'exercice précédent et écrire la fonction ```puissance_opt(a, n)```. "
   ]
  },
  {
   "cell_type": "markdown",
   "metadata": {},
   "source": [
    "**Votre solution:**"
   ]
  },
  {
   "cell_type": "markdown",
   "metadata": {},
   "source": [
    "Une première version sans le compteur d'appels:"
   ]
  },
  {
   "cell_type": "code",
   "execution_count": null,
   "metadata": {},
   "outputs": [],
   "source": [
    "def puissanceopt_rec_appels(a, n):\n",
    "    if n == 0:\n",
    "        return 1, 0\n",
    "    else:\n",
    "        if n % 2 == 0:\n",
    "            puiss, compteur = puissanceopt_rec_appels(a * a, n // 2)\n",
    "            return puiss, compteur + 1\n",
    "        else:\n",
    "            puiss, compteur = puissanceopt_rec_appels(a, n - 1)\n",
    "            return puiss*a, compteur + 1"
   ]
  },
  {
   "cell_type": "code",
   "execution_count": null,
   "metadata": {},
   "outputs": [],
   "source": [
    "from random import randint\n",
    "\n",
    "for _ in range(25):\n",
    "    n = randint(0, 1000)\n",
    "    if a > 0 or n > 0: # on évite le cas 0 puissance 0\n",
    "        puiss, compteur = puissanceopt_rec_appels(a, n)\n",
    "\n",
    "        # Déclenche une erreur en cas de bug\n",
    "        assert a**n == puiss\n",
    "        print(\"Calcul de {}^{} effectué en {} appels récursifs contre {} avec puissance_rec\".format(a, n, compteur, n))"
   ]
  },
  {
   "cell_type": "markdown",
   "metadata": {},
   "source": [
    "Et une version qui compte le nombre d'appels (plus complexe à comprendre):"
   ]
  },
  {
   "cell_type": "code",
   "execution_count": null,
   "metadata": {},
   "outputs": [],
   "source": [
    "def puissance_opt(a, n):\n",
    "    \"\"\"\n",
    "    Calcule et renvoie a^n ainsi que le nombre\n",
    "    d'appels récursifs nécessaires à ce calcul.\n",
    "    \"\"\"\n",
    "    \n",
    "    if n == 0:\n",
    "        return 1, 1\n",
    "    else:\n",
    "        if n % 2 == 0:\n",
    "            puiss, n = puissance_opt(a, n // 2)\n",
    "            return puiss*puiss, n + 1\n",
    "        else:\n",
    "            puiss, n = puissance_opt(a, n - 1)\n",
    "            return a*puiss, n + 1"
   ]
  },
  {
   "cell_type": "code",
   "execution_count": null,
   "metadata": {},
   "outputs": [],
   "source": [
    "for a in range(10):\n",
    "    for n in range(10):\n",
    "        if a > 0 or n > 0: # on évite le cas 0 puissance 0\n",
    "            puiss, m = puissance_opt(a, n)\n",
    "            \n",
    "            # Déclenche une erreur en cas de bug\n",
    "            assert a**n == puiss\n",
    "            \n",
    "# Si rien n'est affiché, c'est bon signe !"
   ]
  },
  {
   "cell_type": "markdown",
   "metadata": {},
   "source": [
    "### Suite de Syracuse"
   ]
  },
  {
   "cell_type": "markdown",
   "metadata": {},
   "source": [
    "**Spécification:** Écrire une fonction ```syracuse(n)``` basée sur la [suite de Syracuse](https://fr.wikipedia.org/wiki/Conjecture_de_Syracuse). Sa valeur de retour sera:\n",
    "\n",
    "* 1 si `n==1`.\n",
    "* `syracuse(n / 2)` si `n` est pair\n",
    "* `syracuse(3*n + 1)` sinon.\n",
    "\n",
    "La conjecture de Syracuse nous permet d'affirmer que (sous réserve qu'elle soit correcte, ce que personne n'a jamais réussi à démontrer) la fonction de syracuse ne bouclera jamais indéfiniment et renverra toujours la valeur 1.\n",
    "\n",
    "**Bonus:** En plus de la valeur de retour (qui sera toujours 1), renvoyez le nombre d'appels récursifs nécessaires pour atteindre cette valeur finale."
   ]
  },
  {
   "cell_type": "markdown",
   "metadata": {},
   "source": [
    "**Changement du cahier des charges:** Renvoyer systématiquement le nombre 1 n'a absolument aucun intérêt !\n",
    "\n",
    "On va renvoyer deux valeurs intéressantes: le nombre d'étapes qui ont été nécessaires pour atteindre 1 (si la conjecture de Syracuse est vraie), que l'on appelle le _temps de vol_, mais aussi l'_altitude maximale_, c'est-à-dire la plus grande valeur rencontrée avant d'atteindre 1."
   ]
  },
  {
   "cell_type": "markdown",
   "metadata": {},
   "source": [
    "**Votre solution:**"
   ]
  },
  {
   "cell_type": "code",
   "execution_count": null,
   "metadata": {},
   "outputs": [],
   "source": [
    "def syracuse(n):\n",
    "    \"\"\"\n",
    "    Renvoie un couple d'entiers (temps_de_vol, altitude_max).\n",
    "    \"\"\"\n",
    "    \n",
    "    if n == 1:\n",
    "        return 0, 1\n",
    "    else:\n",
    "        if n % 2 == 0:\n",
    "            temps_de_vol, altitude_max = syracuse(n // 2)\n",
    "        else:\n",
    "            temps_de_vol, altitude_max = syracuse(3*n + 1)\n",
    "        if altitude_max > n:\n",
    "            return temps_de_vol + 1, altitude_max\n",
    "        else:\n",
    "            return temps_de_vol + 1, n"
   ]
  },
  {
   "cell_type": "code",
   "execution_count": null,
   "metadata": {},
   "outputs": [],
   "source": [
    "temps_de_vol_max = 0\n",
    "altitude_max_max = 0\n",
    "for n in range(1, 100):\n",
    "    temps_de_vol, altitude_max = syracuse(n)\n",
    "    print(\"Pour la valeur {} le temps de vol est {} et l'altitude maximale est {}.\".format(n, temps_de_vol, altitude_max))\n",
    "    if temps_de_vol > temps_de_vol_max:\n",
    "        temps_de_vol_max = temps_de_vol\n",
    "    if altitude_max > altitude_max_max:\n",
    "        altitude_max_max = altitude_max\n",
    "        \n",
    "print()\n",
    "print(\"Pour les 1 <= n <= 100, le plus grand temps de vol atteint est\", temps_de_vol_max)\n",
    "print(\"Pour les 1 <= n <= 100, la plus grande altitude maximale atteinte est\", altitude_max_max)"
   ]
  },
  {
   "cell_type": "markdown",
   "metadata": {},
   "source": [
    "### Suite de Fibonacci"
   ]
  },
  {
   "cell_type": "markdown",
   "metadata": {},
   "source": [
    "**Spécification:** Écrire la fonction ```fibo(n)``` calculant $f_n$."
   ]
  },
  {
   "cell_type": "markdown",
   "metadata": {},
   "source": [
    "**Votre solution:**"
   ]
  },
  {
   "cell_type": "code",
   "execution_count": null,
   "metadata": {},
   "outputs": [],
   "source": [
    "def fibo_rec_appels(n):\n",
    "    \"\"\"\n",
    "    Calcule et renvoie le n-ième terme de la suite de Fibonacci.\n",
    "    \"\"\"\n",
    "    \n",
    "    if n in [0, 1]:\n",
    "        return 1, 0\n",
    "    else:\n",
    "        fn_moins_un, compteur1 = fibo_rec_appels(n-1)\n",
    "        fn_moins_deux, compteur2 = fibo_rec_appels(n-2)\n",
    "        return fn_moins_un + fn_moins_deux, compteur1 + compteur2 + 1"
   ]
  },
  {
   "cell_type": "code",
   "execution_count": null,
   "metadata": {},
   "outputs": [],
   "source": [
    "def fibo_iter(n):\n",
    "    \"\"\"\n",
    "    Calcule et renvoie le n-ième terme de la suite de Fibonacci.\n",
    "    \"\"\"\n",
    "    \n",
    "    if n in [0, 1]:\n",
    "        return 1\n",
    "    else:\n",
    "        fn_moins_un = 1\n",
    "        fn = 1\n",
    "        for _ in range(n-1):\n",
    "            fn_moins_un, fn = fn, fn_moins_un + fn\n",
    "            \n",
    "        return fn"
   ]
  },
  {
   "cell_type": "code",
   "execution_count": null,
   "metadata": {},
   "outputs": [],
   "source": [
    "for n in range(30):\n",
    "    fn, compteur = fibo_rec_appels(n)\n",
    "    assert fn == fibo_iter(n)\n",
    "    print(\"f_{} = {} en {} appels récursifs\".format(n, fn, compteur))"
   ]
  },
  {
   "cell_type": "markdown",
   "metadata": {},
   "source": [
    "**Conjecture:** On peut conjecturer à la vue de ces résultats que le nombre d'appels récursifs néssaire au calcul de $f_n$ est égal à $f_n - 1$. \n",
    "\n",
    "On peut le démontrer par récurrence, mais comme on a ici une récurrence **double**, c'est assez difficile (et complètement hors programme pour un lycéen, même en spécialité mathématique ou bien en mathématiques expertes)."
   ]
  },
  {
   "cell_type": "markdown",
   "metadata": {},
   "source": [
    "## Permutations d'une liste"
   ]
  },
  {
   "cell_type": "markdown",
   "metadata": {},
   "source": [
    "**Spécification:** Écrire une fonction ```permutations(L)``` retournant la liste de **toutes** les permutations de la liste ```L```."
   ]
  },
  {
   "cell_type": "markdown",
   "metadata": {},
   "source": [
    "**Votre solution:**"
   ]
  },
  {
   "cell_type": "markdown",
   "metadata": {},
   "source": [
    "On aura ici besoin d'une fonction auxilliaire, permettant d'insérer un élément à toutes les positions possibles d'une liste (première et dernière comprise)."
   ]
  },
  {
   "cell_type": "code",
   "execution_count": null,
   "metadata": {},
   "outputs": [],
   "source": [
    "def insertion(élément, L):\n",
    "    \"\"\"\n",
    "    Insère élément à toutes les positions de L, et renvoie la liste \n",
    "    de toutes les possibilités.\n",
    "    \"\"\"\n",
    "    réponse = []\n",
    "    for n in range(len(L) + 1):\n",
    "        # On découpe L jusqu'à la position n:\n",
    "        préfixe = L[:n]\n",
    "        suffixe = L[n:]\n",
    "        réponse.append(préfixe + [élément] + suffixe)\n",
    "    return réponse"
   ]
  },
  {
   "cell_type": "markdown",
   "metadata": {},
   "source": [
    "Testons notre fonction:"
   ]
  },
  {
   "cell_type": "code",
   "execution_count": null,
   "metadata": {},
   "outputs": [],
   "source": [
    "insertion(\"_\", list(\"abcdefgh\"))"
   ]
  },
  {
   "cell_type": "code",
   "execution_count": null,
   "metadata": {},
   "outputs": [],
   "source": [
    "insertion(\"_\", [])"
   ]
  },
  {
   "cell_type": "code",
   "execution_count": null,
   "metadata": {},
   "outputs": [],
   "source": [
    "insertion(\"_\", [\"O\"])"
   ]
  },
  {
   "cell_type": "code",
   "execution_count": null,
   "metadata": {},
   "outputs": [],
   "source": [
    "def permutations(L):\n",
    "    \"\"\"\n",
    "    Retourne la liste de toutes les permutations d'une liste L\n",
    "    \"\"\"\n",
    "    \n",
    "    if len(L) <= 1:\n",
    "        return [L]\n",
    "    else:\n",
    "        réponse = []\n",
    "        tête = L[0]\n",
    "        queue = L[1:]\n",
    "        for p in permutations(queue):\n",
    "            réponse.extend(insertion(tête, p))\n",
    "        \n",
    "        return réponse"
   ]
  },
  {
   "cell_type": "markdown",
   "metadata": {},
   "source": [
    "Testons notre code:"
   ]
  },
  {
   "cell_type": "code",
   "execution_count": null,
   "metadata": {},
   "outputs": [],
   "source": [
    "p = permutations(list(\"1234\"))\n",
    "p, len(p)"
   ]
  },
  {
   "cell_type": "code",
   "execution_count": null,
   "metadata": {},
   "outputs": [],
   "source": [
    "for p in permutations([\"Marquise\", \"vos beaux yeux\", \"me font\", \"mourir\", \"d'amour\"]):\n",
    "    print(\" \".join(p))"
   ]
  },
  {
   "cell_type": "markdown",
   "metadata": {},
   "source": [
    "## Flocon de neige de Von Koch"
   ]
  },
  {
   "cell_type": "markdown",
   "metadata": {},
   "source": [
    "**Spécification:** À l'aide du module ```turtle``` de python, tracez (récursivement) un flocon de neige de Von Koch à un degré passé en paramètre. La fonction s'appellera ```koch(d)```, où $d$ est le degré. Pour $d = 0$, on aura le triangle équilatéral de base. \n",
    "\n",
    "Attention, le nombre de segments à tracer est égal à $3\\times 4^d$, puisqu'à chaque étape le nombre de segments est multiplié par 4. Ne pas choisir de valeur trop grande de $d$ sous peine de devoir attendre très longtemps la fin du tracer."
   ]
  },
  {
   "cell_type": "markdown",
   "metadata": {},
   "source": [
    "**Votre solution:**"
   ]
  },
  {
   "cell_type": "code",
   "execution_count": null,
   "metadata": {},
   "outputs": [],
   "source": [
    "import turtle as tt\n",
    "\n",
    "def segment_koch(longueur, d):\n",
    "    if d == 0:\n",
    "        tt.forward(longueur)\n",
    "    else:\n",
    "        tiers = longueur // 3\n",
    "        segment_koch(tiers, d - 1)\n",
    "        tt.left(60)\n",
    "        segment_koch(tiers, d - 1)\n",
    "        tt.right(120)\n",
    "        segment_koch(tiers, d - 1)\n",
    "        tt.left(60)\n",
    "        segment_koch(tiers, d - 1)\n",
    "\n",
    "def flocon_koch(longueur, d):\n",
    "    \"\"\"\n",
    "    Affiche le flocon de neige de Von Koch de rang d (d >= 0).\n",
    "    \"\"\"\n",
    "\n",
    "    tt.setup()\n",
    "    tt.reset()\n",
    "    tt.speed(0)\n",
    "    tt.penup()\n",
    "    tt.clear()\n",
    "    tt.goto(0, 0)\n",
    "    tt.forward(longueur // 2)\n",
    "    tt.right(150)\n",
    "    tt.pendown()\n",
    "    tt.color(\"blue\", \"yellow\")\n",
    "    tt.pensize(3)\n",
    "    tt.showturtle()\n",
    "    \n",
    "    tt.begin_fill()\n",
    "    for _ in range(3):\n",
    "        segment_koch(longueur, d)\n",
    "        tt.right(120) \n",
    "    tt.end_fill()\n",
    "    tt.hideturtle()\n",
    "    \n",
    "def close():\n",
    "    tt.bye()"
   ]
  },
  {
   "cell_type": "markdown",
   "metadata": {},
   "source": [
    "**Remarque:** La librairie 'turtle' est un peu capricieuse: il est possible que la cellule suivante déclenche une erreur si on la réexécute une seconde fois. Dans ce cas là, il faut relancer une exécution."
   ]
  },
  {
   "cell_type": "code",
   "execution_count": null,
   "metadata": {},
   "outputs": [],
   "source": [
    "flocon_koch(400, 3)"
   ]
  },
  {
   "cell_type": "markdown",
   "metadata": {},
   "source": [
    "Pour fermer automatiquement (et proprement) la fenêtre graphique:"
   ]
  },
  {
   "cell_type": "code",
   "execution_count": null,
   "metadata": {},
   "outputs": [],
   "source": [
    "close()"
   ]
  },
  {
   "cell_type": "markdown",
   "metadata": {},
   "source": [
    "## Les tours de Hanoi"
   ]
  },
  {
   "cell_type": "markdown",
   "metadata": {},
   "source": [
    "**Votre solution:**"
   ]
  },
  {
   "cell_type": "code",
   "execution_count": null,
   "metadata": {},
   "outputs": [],
   "source": [
    "def déplace_pile(animator, N, a, b, c):\n",
    "    \"\"\"\n",
    "    Déplace (en utilisant le HanoiAnimator animator) une pile\n",
    "    de N disques du plot a vers le plot b en passant par c.\n",
    "    \n",
    "    [a, b, c] doit être une permutation de [1, 2, 3].\n",
    "    \"\"\"\n",
    "    \n",
    "    if N == 1:\n",
    "        animator.mouvement(a, b)\n",
    "    else:\n",
    "        # On déplace N-1 disques de a vers la position temporaire c\n",
    "        déplace_pile(animator, N-1, a, c, b)\n",
    "        \n",
    "        # On déplace le plus gros disque de a vers b\n",
    "        animator.mouvement(a, b)\n",
    "        \n",
    "        # Puis on remet les N-1 disques de c vers b \n",
    "        # (en passant par a du coup)\n",
    "        déplace_pile(animator, N-1, c, b, a)"
   ]
  },
  {
   "cell_type": "code",
   "execution_count": null,
   "metadata": {},
   "outputs": [],
   "source": [
    "from animator import HanoiAnimator\n",
    "\n",
    "def hanoi(N):\n",
    "    \"\"\"\n",
    "    Déplace (et anime) N disques de Hanoi du plot 1 vers le plot 3.\n",
    "    \n",
    "    Renvoie l'objet animator (pour permettre par exemple de refermer\n",
    "    la fenêtre par la suite)\n",
    "    \"\"\"\n",
    "    \n",
    "    ha = HanoiAnimator(N)\n",
    "    ha.placement_initial()\n",
    "    déplace_pile(ha, N, 1, 3, 2)\n",
    "    \n",
    "    return ha"
   ]
  },
  {
   "cell_type": "markdown",
   "metadata": {},
   "source": [
    "**Attention:** Les cellules suivantes ne fonctionnent pas au labo d'info du lycée Carnot (python version 3.5 est sans doute une version trop vieille, à comparer à l'actuelle python 3.9)."
   ]
  },
  {
   "cell_type": "code",
   "execution_count": null,
   "metadata": {},
   "outputs": [],
   "source": [
    "ha = hanoi(5)"
   ]
  },
  {
   "cell_type": "code",
   "execution_count": null,
   "metadata": {},
   "outputs": [],
   "source": [
    "ha.destruction()"
   ]
  }
 ],
 "metadata": {
  "kernelspec": {
   "display_name": "Python 3 (ipykernel)",
   "language": "python",
   "name": "python3"
  },
  "language_info": {
   "codemirror_mode": {
    "name": "ipython",
    "version": 3
   },
   "file_extension": ".py",
   "mimetype": "text/x-python",
   "name": "python",
   "nbconvert_exporter": "python",
   "pygments_lexer": "ipython3",
   "version": "3.9.6"
  }
 },
 "nbformat": 4,
 "nbformat_minor": 4
}
